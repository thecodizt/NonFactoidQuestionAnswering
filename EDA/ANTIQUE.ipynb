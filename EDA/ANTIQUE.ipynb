{
 "cells": [
  {
   "cell_type": "code",
   "execution_count": 15,
   "metadata": {},
   "outputs": [],
   "source": [
    "import pandas as pd"
   ]
  },
  {
   "cell_type": "code",
   "execution_count": 16,
   "metadata": {},
   "outputs": [],
   "source": [
    "antique = pd.read_csv('../Data/ANTIQUE/antique-collection.txt', delimiter='\\t', header=None, names=['ID', 'Text'])"
   ]
  },
  {
   "cell_type": "code",
   "execution_count": 17,
   "metadata": {},
   "outputs": [
    {
     "data": {
      "text/html": [
       "<div>\n",
       "<style scoped>\n",
       "    .dataframe tbody tr th:only-of-type {\n",
       "        vertical-align: middle;\n",
       "    }\n",
       "\n",
       "    .dataframe tbody tr th {\n",
       "        vertical-align: top;\n",
       "    }\n",
       "\n",
       "    .dataframe thead th {\n",
       "        text-align: right;\n",
       "    }\n",
       "</style>\n",
       "<table border=\"1\" class=\"dataframe\">\n",
       "  <thead>\n",
       "    <tr style=\"text-align: right;\">\n",
       "      <th></th>\n",
       "      <th>ID</th>\n",
       "      <th>Text</th>\n",
       "    </tr>\n",
       "  </thead>\n",
       "  <tbody>\n",
       "    <tr>\n",
       "      <th>218858</th>\n",
       "      <td>1150829_12</td>\n",
       "      <td>Can't stand him.  He's nothing but a liar and ...</td>\n",
       "    </tr>\n",
       "    <tr>\n",
       "      <th>142836</th>\n",
       "      <td>3300268_0</td>\n",
       "      <td>Large workforce, easy conscription of a army. ...</td>\n",
       "    </tr>\n",
       "    <tr>\n",
       "      <th>254561</th>\n",
       "      <td>1595932_3</td>\n",
       "      <td>There is a cream separator that spins it prett...</td>\n",
       "    </tr>\n",
       "    <tr>\n",
       "      <th>86711</th>\n",
       "      <td>1623209_2</td>\n",
       "      <td>add four sides together. example. . 4+9+4+9 = ...</td>\n",
       "    </tr>\n",
       "    <tr>\n",
       "      <th>392747</th>\n",
       "      <td>1905612_10</td>\n",
       "      <td>How do you know exactly how a person is a Chri...</td>\n",
       "    </tr>\n",
       "  </tbody>\n",
       "</table>\n",
       "</div>"
      ],
      "text/plain": [
       "                ID                                               Text\n",
       "218858  1150829_12  Can't stand him.  He's nothing but a liar and ...\n",
       "142836   3300268_0  Large workforce, easy conscription of a army. ...\n",
       "254561   1595932_3  There is a cream separator that spins it prett...\n",
       "86711    1623209_2  add four sides together. example. . 4+9+4+9 = ...\n",
       "392747  1905612_10  How do you know exactly how a person is a Chri..."
      ]
     },
     "execution_count": 17,
     "metadata": {},
     "output_type": "execute_result"
    }
   ],
   "source": [
    "antique.sample(5)"
   ]
  },
  {
   "cell_type": "code",
   "execution_count": 18,
   "metadata": {},
   "outputs": [],
   "source": [
    "antique[['ID1', 'ID2']] = antique['ID'].str.split('_', expand=True)"
   ]
  },
  {
   "cell_type": "code",
   "execution_count": 19,
   "metadata": {},
   "outputs": [],
   "source": [
    "antique['ID1'] = antique['ID1'].astype(int)\n",
    "antique['ID2'] = antique['ID2'].astype(int)"
   ]
  },
  {
   "cell_type": "code",
   "execution_count": 20,
   "metadata": {},
   "outputs": [
    {
     "data": {
      "text/html": [
       "<div>\n",
       "<style scoped>\n",
       "    .dataframe tbody tr th:only-of-type {\n",
       "        vertical-align: middle;\n",
       "    }\n",
       "\n",
       "    .dataframe tbody tr th {\n",
       "        vertical-align: top;\n",
       "    }\n",
       "\n",
       "    .dataframe thead th {\n",
       "        text-align: right;\n",
       "    }\n",
       "</style>\n",
       "<table border=\"1\" class=\"dataframe\">\n",
       "  <thead>\n",
       "    <tr style=\"text-align: right;\">\n",
       "      <th></th>\n",
       "      <th>ID</th>\n",
       "      <th>Text</th>\n",
       "      <th>ID1</th>\n",
       "      <th>ID2</th>\n",
       "    </tr>\n",
       "  </thead>\n",
       "  <tbody>\n",
       "    <tr>\n",
       "      <th>234963</th>\n",
       "      <td>3779857_1</td>\n",
       "      <td>In terms of molecular weight, water would be H...</td>\n",
       "      <td>3779857</td>\n",
       "      <td>1</td>\n",
       "    </tr>\n",
       "    <tr>\n",
       "      <th>55226</th>\n",
       "      <td>2763194_7</td>\n",
       "      <td>Per an accountant friend of mine it takes 6 ye...</td>\n",
       "      <td>2763194</td>\n",
       "      <td>7</td>\n",
       "    </tr>\n",
       "    <tr>\n",
       "      <th>270332</th>\n",
       "      <td>1642518_1</td>\n",
       "      <td>becuase of the reaction it has to drying and s...</td>\n",
       "      <td>1642518</td>\n",
       "      <td>1</td>\n",
       "    </tr>\n",
       "    <tr>\n",
       "      <th>219486</th>\n",
       "      <td>3199638_18</td>\n",
       "      <td>yeah, actually I do....</td>\n",
       "      <td>3199638</td>\n",
       "      <td>18</td>\n",
       "    </tr>\n",
       "    <tr>\n",
       "      <th>279260</th>\n",
       "      <td>1317844_0</td>\n",
       "      <td>Buffalo is in upstate NY, western NY to be exact.</td>\n",
       "      <td>1317844</td>\n",
       "      <td>0</td>\n",
       "    </tr>\n",
       "  </tbody>\n",
       "</table>\n",
       "</div>"
      ],
      "text/plain": [
       "                ID                                               Text  \\\n",
       "234963   3779857_1  In terms of molecular weight, water would be H...   \n",
       "55226    2763194_7  Per an accountant friend of mine it takes 6 ye...   \n",
       "270332   1642518_1  becuase of the reaction it has to drying and s...   \n",
       "219486  3199638_18                            yeah, actually I do....   \n",
       "279260   1317844_0  Buffalo is in upstate NY, western NY to be exact.   \n",
       "\n",
       "            ID1  ID2  \n",
       "234963  3779857    1  \n",
       "55226   2763194    7  \n",
       "270332  1642518    1  \n",
       "219486  3199638   18  \n",
       "279260  1317844    0  "
      ]
     },
     "execution_count": 20,
     "metadata": {},
     "output_type": "execute_result"
    }
   ],
   "source": [
    "antique.sample(5)"
   ]
  },
  {
   "cell_type": "code",
   "execution_count": 21,
   "metadata": {},
   "outputs": [
    {
     "data": {
      "text/plain": [
       "ID1\n",
       "29         11\n",
       "66          7\n",
       "95          4\n",
       "170         2\n",
       "192         5\n",
       "           ..\n",
       "4482703     4\n",
       "4482782     4\n",
       "4482840     7\n",
       "4482936    10\n",
       "4482988     3\n",
       "Name: ID2, Length: 66612, dtype: int64"
      ]
     },
     "execution_count": 21,
     "metadata": {},
     "output_type": "execute_result"
    }
   ],
   "source": [
    "antique.groupby('ID1')['ID2'].count()"
   ]
  },
  {
   "cell_type": "code",
   "execution_count": 22,
   "metadata": {},
   "outputs": [
    {
     "name": "stdout",
     "output_type": "stream",
     "text": [
      "          ID                                               Text  ID1  ID2\n",
      "71693  170_0  To me its a metaphor for the struggle between ...  170    0\n",
      "71694  170_1                             Tigers are brave guys.  170    1\n"
     ]
    }
   ],
   "source": [
    "print(antique[antique['ID1']==170])"
   ]
  },
  {
   "cell_type": "code",
   "execution_count": 23,
   "metadata": {},
   "outputs": [],
   "source": [
    "train_queries = pd.read_csv('../Data/ANTIQUE/antique-train-queries.txt', delimiter='\\t', header=None, names=['ID', 'Query'])"
   ]
  },
  {
   "cell_type": "code",
   "execution_count": 24,
   "metadata": {},
   "outputs": [
    {
     "data": {
      "text/html": [
       "<div>\n",
       "<style scoped>\n",
       "    .dataframe tbody tr th:only-of-type {\n",
       "        vertical-align: middle;\n",
       "    }\n",
       "\n",
       "    .dataframe tbody tr th {\n",
       "        vertical-align: top;\n",
       "    }\n",
       "\n",
       "    .dataframe thead th {\n",
       "        text-align: right;\n",
       "    }\n",
       "</style>\n",
       "<table border=\"1\" class=\"dataframe\">\n",
       "  <thead>\n",
       "    <tr style=\"text-align: right;\">\n",
       "      <th></th>\n",
       "      <th>ID</th>\n",
       "      <th>Query</th>\n",
       "    </tr>\n",
       "  </thead>\n",
       "  <tbody>\n",
       "    <tr>\n",
       "      <th>382</th>\n",
       "      <td>3922248</td>\n",
       "      <td>What is the sqare root of -16?</td>\n",
       "    </tr>\n",
       "    <tr>\n",
       "      <th>2234</th>\n",
       "      <td>664886</td>\n",
       "      <td>Atheists, Why only go after Christianity?</td>\n",
       "    </tr>\n",
       "    <tr>\n",
       "      <th>919</th>\n",
       "      <td>1433442</td>\n",
       "      <td>What's the difference between a cabbage?</td>\n",
       "    </tr>\n",
       "    <tr>\n",
       "      <th>2115</th>\n",
       "      <td>1557632</td>\n",
       "      <td>What is a peanut if it isn't a nut?</td>\n",
       "    </tr>\n",
       "    <tr>\n",
       "      <th>1964</th>\n",
       "      <td>1582044</td>\n",
       "      <td>how/do tarot cards work?</td>\n",
       "    </tr>\n",
       "  </tbody>\n",
       "</table>\n",
       "</div>"
      ],
      "text/plain": [
       "           ID                                      Query\n",
       "382   3922248             What is the sqare root of -16?\n",
       "2234   664886  Atheists, Why only go after Christianity?\n",
       "919   1433442   What's the difference between a cabbage?\n",
       "2115  1557632        What is a peanut if it isn't a nut?\n",
       "1964  1582044                   how/do tarot cards work?"
      ]
     },
     "execution_count": 24,
     "metadata": {},
     "output_type": "execute_result"
    }
   ],
   "source": [
    "train_queries.sample(5)"
   ]
  },
  {
   "cell_type": "code",
   "execution_count": 25,
   "metadata": {},
   "outputs": [
    {
     "data": {
      "text/plain": [
       "(2426, 2)"
      ]
     },
     "execution_count": 25,
     "metadata": {},
     "output_type": "execute_result"
    }
   ],
   "source": [
    "train_queries.shape"
   ]
  },
  {
   "cell_type": "code",
   "execution_count": 26,
   "metadata": {},
   "outputs": [],
   "source": [
    "test_queries = pd.read_csv('../Data/ANTIQUE/antique-test-queries.txt', delimiter='\\t', header=None, names=['ID', 'Query'])"
   ]
  },
  {
   "cell_type": "code",
   "execution_count": 27,
   "metadata": {},
   "outputs": [
    {
     "data": {
      "text/html": [
       "<div>\n",
       "<style scoped>\n",
       "    .dataframe tbody tr th:only-of-type {\n",
       "        vertical-align: middle;\n",
       "    }\n",
       "\n",
       "    .dataframe tbody tr th {\n",
       "        vertical-align: top;\n",
       "    }\n",
       "\n",
       "    .dataframe thead th {\n",
       "        text-align: right;\n",
       "    }\n",
       "</style>\n",
       "<table border=\"1\" class=\"dataframe\">\n",
       "  <thead>\n",
       "    <tr style=\"text-align: right;\">\n",
       "      <th></th>\n",
       "      <th>ID</th>\n",
       "      <th>Query</th>\n",
       "    </tr>\n",
       "  </thead>\n",
       "  <tbody>\n",
       "    <tr>\n",
       "      <th>67</th>\n",
       "      <td>558570</td>\n",
       "      <td>My city just put a ban on pit bulls, how do we...</td>\n",
       "    </tr>\n",
       "    <tr>\n",
       "      <th>115</th>\n",
       "      <td>2018562</td>\n",
       "      <td>Why does my Black Lab howl to \"Law and Order\" ...</td>\n",
       "    </tr>\n",
       "    <tr>\n",
       "      <th>136</th>\n",
       "      <td>224109</td>\n",
       "      <td>what is citriscidal?</td>\n",
       "    </tr>\n",
       "    <tr>\n",
       "      <th>135</th>\n",
       "      <td>354733</td>\n",
       "      <td>What are the names of some famous photographer...</td>\n",
       "    </tr>\n",
       "    <tr>\n",
       "      <th>159</th>\n",
       "      <td>2443586</td>\n",
       "      <td>What is a Bro?</td>\n",
       "    </tr>\n",
       "  </tbody>\n",
       "</table>\n",
       "</div>"
      ],
      "text/plain": [
       "          ID                                              Query\n",
       "67    558570  My city just put a ban on pit bulls, how do we...\n",
       "115  2018562  Why does my Black Lab howl to \"Law and Order\" ...\n",
       "136   224109                               what is citriscidal?\n",
       "135   354733  What are the names of some famous photographer...\n",
       "159  2443586                                     What is a Bro?"
      ]
     },
     "execution_count": 27,
     "metadata": {},
     "output_type": "execute_result"
    }
   ],
   "source": [
    "test_queries.sample(5)"
   ]
  },
  {
   "cell_type": "code",
   "execution_count": 28,
   "metadata": {},
   "outputs": [
    {
     "data": {
      "text/plain": [
       "(200, 2)"
      ]
     },
     "execution_count": 28,
     "metadata": {},
     "output_type": "execute_result"
    }
   ],
   "source": [
    "test_queries.shape"
   ]
  },
  {
   "cell_type": "code",
   "execution_count": 39,
   "metadata": {},
   "outputs": [],
   "source": [
    "train_rel = pd.read_csv('../Data/ANTIQUE/antique-train.qrel', delimiter='\\s+', header=None, names=['QueryID', 'Type', 'PassageID', 'Label'])"
   ]
  },
  {
   "cell_type": "code",
   "execution_count": 40,
   "metadata": {},
   "outputs": [
    {
     "data": {
      "text/html": [
       "<div>\n",
       "<style scoped>\n",
       "    .dataframe tbody tr th:only-of-type {\n",
       "        vertical-align: middle;\n",
       "    }\n",
       "\n",
       "    .dataframe tbody tr th {\n",
       "        vertical-align: top;\n",
       "    }\n",
       "\n",
       "    .dataframe thead th {\n",
       "        text-align: right;\n",
       "    }\n",
       "</style>\n",
       "<table border=\"1\" class=\"dataframe\">\n",
       "  <thead>\n",
       "    <tr style=\"text-align: right;\">\n",
       "      <th></th>\n",
       "      <th>QueryID</th>\n",
       "      <th>Type</th>\n",
       "      <th>PassageID</th>\n",
       "      <th>Label</th>\n",
       "    </tr>\n",
       "  </thead>\n",
       "  <tbody>\n",
       "    <tr>\n",
       "      <th>3510</th>\n",
       "      <td>3752962</td>\n",
       "      <td>Q0</td>\n",
       "      <td>3752962_0</td>\n",
       "      <td>4</td>\n",
       "    </tr>\n",
       "    <tr>\n",
       "      <th>9609</th>\n",
       "      <td>2362256</td>\n",
       "      <td>Q0</td>\n",
       "      <td>2362256_3</td>\n",
       "      <td>2</td>\n",
       "    </tr>\n",
       "    <tr>\n",
       "      <th>13094</th>\n",
       "      <td>1388368</td>\n",
       "      <td>Q0</td>\n",
       "      <td>1388368_7</td>\n",
       "      <td>2</td>\n",
       "    </tr>\n",
       "    <tr>\n",
       "      <th>17547</th>\n",
       "      <td>29946</td>\n",
       "      <td>Q0</td>\n",
       "      <td>29946_2</td>\n",
       "      <td>4</td>\n",
       "    </tr>\n",
       "    <tr>\n",
       "      <th>23838</th>\n",
       "      <td>2112535</td>\n",
       "      <td>Q0</td>\n",
       "      <td>2112535_5</td>\n",
       "      <td>1</td>\n",
       "    </tr>\n",
       "  </tbody>\n",
       "</table>\n",
       "</div>"
      ],
      "text/plain": [
       "       QueryID Type  PassageID  Label\n",
       "3510   3752962   Q0  3752962_0      4\n",
       "9609   2362256   Q0  2362256_3      2\n",
       "13094  1388368   Q0  1388368_7      2\n",
       "17547    29946   Q0    29946_2      4\n",
       "23838  2112535   Q0  2112535_5      1"
      ]
     },
     "execution_count": 40,
     "metadata": {},
     "output_type": "execute_result"
    }
   ],
   "source": [
    "train_rel.sample(5)"
   ]
  },
  {
   "cell_type": "code",
   "execution_count": 41,
   "metadata": {},
   "outputs": [
    {
     "data": {
      "text/plain": [
       "(27422, 4)"
      ]
     },
     "execution_count": 41,
     "metadata": {},
     "output_type": "execute_result"
    }
   ],
   "source": [
    "train_rel.shape"
   ]
  },
  {
   "cell_type": "code",
   "execution_count": 42,
   "metadata": {},
   "outputs": [],
   "source": [
    "test_rel = pd.read_csv('../Data/ANTIQUE/antique-test.qrel', delimiter='\\s+', header=None, names=['QueryID', 'Type', 'PassageID', 'Label'])"
   ]
  },
  {
   "cell_type": "code",
   "execution_count": 43,
   "metadata": {},
   "outputs": [
    {
     "data": {
      "text/html": [
       "<div>\n",
       "<style scoped>\n",
       "    .dataframe tbody tr th:only-of-type {\n",
       "        vertical-align: middle;\n",
       "    }\n",
       "\n",
       "    .dataframe tbody tr th {\n",
       "        vertical-align: top;\n",
       "    }\n",
       "\n",
       "    .dataframe thead th {\n",
       "        text-align: right;\n",
       "    }\n",
       "</style>\n",
       "<table border=\"1\" class=\"dataframe\">\n",
       "  <thead>\n",
       "    <tr style=\"text-align: right;\">\n",
       "      <th></th>\n",
       "      <th>QueryID</th>\n",
       "      <th>Type</th>\n",
       "      <th>PassageID</th>\n",
       "      <th>Label</th>\n",
       "    </tr>\n",
       "  </thead>\n",
       "  <tbody>\n",
       "    <tr>\n",
       "      <th>3819</th>\n",
       "      <td>3554263</td>\n",
       "      <td>Q0</td>\n",
       "      <td>3554263_5</td>\n",
       "      <td>3</td>\n",
       "    </tr>\n",
       "    <tr>\n",
       "      <th>3803</th>\n",
       "      <td>456214</td>\n",
       "      <td>Q0</td>\n",
       "      <td>2543207_7</td>\n",
       "      <td>4</td>\n",
       "    </tr>\n",
       "    <tr>\n",
       "      <th>2850</th>\n",
       "      <td>1459749</td>\n",
       "      <td>Q0</td>\n",
       "      <td>3721778_7</td>\n",
       "      <td>1</td>\n",
       "    </tr>\n",
       "    <tr>\n",
       "      <th>5237</th>\n",
       "      <td>1292734</td>\n",
       "      <td>Q0</td>\n",
       "      <td>2778901_0</td>\n",
       "      <td>1</td>\n",
       "    </tr>\n",
       "    <tr>\n",
       "      <th>6299</th>\n",
       "      <td>8293</td>\n",
       "      <td>Q0</td>\n",
       "      <td>3990173_5</td>\n",
       "      <td>2</td>\n",
       "    </tr>\n",
       "  </tbody>\n",
       "</table>\n",
       "</div>"
      ],
      "text/plain": [
       "      QueryID Type  PassageID  Label\n",
       "3819  3554263   Q0  3554263_5      3\n",
       "3803   456214   Q0  2543207_7      4\n",
       "2850  1459749   Q0  3721778_7      1\n",
       "5237  1292734   Q0  2778901_0      1\n",
       "6299     8293   Q0  3990173_5      2"
      ]
     },
     "execution_count": 43,
     "metadata": {},
     "output_type": "execute_result"
    }
   ],
   "source": [
    "test_rel.sample(5)"
   ]
  },
  {
   "cell_type": "code",
   "execution_count": 44,
   "metadata": {},
   "outputs": [
    {
     "data": {
      "text/plain": [
       "(6589, 4)"
      ]
     },
     "execution_count": 44,
     "metadata": {},
     "output_type": "execute_result"
    }
   ],
   "source": [
    "test_rel.shape"
   ]
  },
  {
   "cell_type": "code",
   "execution_count": 47,
   "metadata": {},
   "outputs": [],
   "source": [
    "import matplotlib.pyplot as plt"
   ]
  },
  {
   "cell_type": "code",
   "execution_count": 50,
   "metadata": {},
   "outputs": [
    {
     "data": {
      "image/png": "[encoded data removed]",
      "text/plain": [
       "<Figure size 640x480 with 1 Axes>"
      ]
     },
     "metadata": {},
     "output_type": "display_data"
    }
   ],
   "source": [
    "plt.hist([train_rel['Type'], test_rel['Type']], alpha=0.7, label=['Train Rel', 'Test Rel'])\n",
    "plt.xlabel('Values')\n",
    "plt.ylabel('Frequency')\n",
    "plt.title('Type - Histogram')\n",
    "\n",
    "# Add legend\n",
    "plt.legend()\n",
    "\n",
    "# Show the plot\n",
    "plt.show()"
   ]
  },
  {
   "cell_type": "markdown",
   "metadata": {},
   "source": [
    "U0, Q0, and E0 are the three main components of the ANTIQUE queries dataset.\n",
    "\n",
    "U0: The user query, which is the natural language question that the user asked.\n",
    "\n",
    "Q0: The query that was submitted to the search engine, which may have been modified from the user query to be more compatible with the search engine's query syntax.\n",
    "\n",
    "E0: The search engine's response to the query, which is a list of URLs to documents that the search engine believes are relevant to the query."
   ]
  },
  {
   "cell_type": "code",
   "execution_count": 51,
   "metadata": {},
   "outputs": [
    {
     "data": {
      "image/png": "[encoded data removed]",
      "text/plain": [
       "<Figure size 640x480 with 1 Axes>"
      ]
     },
     "metadata": {},
     "output_type": "display_data"
    }
   ],
   "source": [
    "plt.hist([train_rel['Label'], test_rel['Label']], alpha=0.7, label=['Train Rel', 'Test Rel'])\n",
    "plt.xlabel('Values')\n",
    "plt.ylabel('Frequency')\n",
    "plt.title('Label - Histogram')\n",
    "\n",
    "# Add legend\n",
    "plt.legend()\n",
    "\n",
    "# Show the plot\n",
    "plt.show()"
   ]
  },
  {
   "cell_type": "markdown",
   "metadata": {},
   "source": [
    "Label 4: It looks reasonable and convincing. Its quality is on par\n",
    "with or better than the “Possibly Correct Answer”. Note that\n",
    "it does not have to provide the same answer as the “Possibly\n",
    "Correct Answer”.\n",
    "\n",
    "Label 3: It can be an answer to the question, however, it is not\n",
    "sufficiently convincing. There should be an answer with much\n",
    "better quality for the question.\n",
    "\n",
    "Label 2: It does not answer the question or if it does, it provides an\n",
    "unreasonable answer, however, it is not out of context. Therefore,\n",
    "you cannot accept it as an answer to the question.\n",
    "\n",
    "Label 1: It is completely out of context or does not make any\n",
    "sense."
   ]
  },
  {
   "cell_type": "code",
   "execution_count": null,
   "metadata": {},
   "outputs": [],
   "source": []
  }
 ],
 "metadata": {
  "kernelspec": {
   "display_name": "Python 3",
   "language": "python",
   "name": "python3"
  },
  "language_info": {
   "codemirror_mode": {
    "name": "ipython",
    "version": 3
   },
   "file_extension": ".py",
   "mimetype": "text/x-python",
   "name": "python",
   "nbconvert_exporter": "python",
   "pygments_lexer": "ipython3",
   "version": "3.11.6"
  }
 },
 "nbformat": 4,
 "nbformat_minor": 2
}
